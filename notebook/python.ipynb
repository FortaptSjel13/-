{
 "cells": [
  {
   "cell_type": "code",
   "execution_count": 8,
   "id": "93d82ac4-e7d1-4376-8649-b6487c9b0f6e",
   "metadata": {},
   "outputs": [],
   "source": [
    "import pandas as pd\n",
    "import matplotlib.pyplot as plt\n",
    "import seaborn as sns"
   ]
  },
  {
   "cell_type": "code",
   "execution_count": 2,
   "id": "32629905-ddd3-4812-8d3d-a33738af8d27",
   "metadata": {},
   "outputs": [],
   "source": [
    "df = pd.read_csv('PS_20174392719_1491204439457_log.csv')"
   ]
  },
  {
   "cell_type": "code",
   "execution_count": 3,
   "id": "ac4a46f5-a34e-4a06-b957-434c9bc8b615",
   "metadata": {},
   "outputs": [
    {
     "data": {
      "text/html": [
       "<div>\n",
       "<style scoped>\n",
       "    .dataframe tbody tr th:only-of-type {\n",
       "        vertical-align: middle;\n",
       "    }\n",
       "\n",
       "    .dataframe tbody tr th {\n",
       "        vertical-align: top;\n",
       "    }\n",
       "\n",
       "    .dataframe thead th {\n",
       "        text-align: right;\n",
       "    }\n",
       "</style>\n",
       "<table border=\"1\" class=\"dataframe\">\n",
       "  <thead>\n",
       "    <tr style=\"text-align: right;\">\n",
       "      <th></th>\n",
       "      <th>step</th>\n",
       "      <th>type</th>\n",
       "      <th>amount</th>\n",
       "      <th>nameOrig</th>\n",
       "      <th>oldbalanceOrg</th>\n",
       "      <th>newbalanceOrig</th>\n",
       "      <th>nameDest</th>\n",
       "      <th>oldbalanceDest</th>\n",
       "      <th>newbalanceDest</th>\n",
       "      <th>isFraud</th>\n",
       "      <th>isFlaggedFraud</th>\n",
       "    </tr>\n",
       "  </thead>\n",
       "  <tbody>\n",
       "    <tr>\n",
       "      <th>0</th>\n",
       "      <td>1</td>\n",
       "      <td>PAYMENT</td>\n",
       "      <td>9839.64</td>\n",
       "      <td>C1231006815</td>\n",
       "      <td>170136.0</td>\n",
       "      <td>160296.36</td>\n",
       "      <td>M1979787155</td>\n",
       "      <td>0.0</td>\n",
       "      <td>0.0</td>\n",
       "      <td>0</td>\n",
       "      <td>0</td>\n",
       "    </tr>\n",
       "    <tr>\n",
       "      <th>1</th>\n",
       "      <td>1</td>\n",
       "      <td>PAYMENT</td>\n",
       "      <td>1864.28</td>\n",
       "      <td>C1666544295</td>\n",
       "      <td>21249.0</td>\n",
       "      <td>19384.72</td>\n",
       "      <td>M2044282225</td>\n",
       "      <td>0.0</td>\n",
       "      <td>0.0</td>\n",
       "      <td>0</td>\n",
       "      <td>0</td>\n",
       "    </tr>\n",
       "    <tr>\n",
       "      <th>2</th>\n",
       "      <td>1</td>\n",
       "      <td>TRANSFER</td>\n",
       "      <td>181.00</td>\n",
       "      <td>C1305486145</td>\n",
       "      <td>181.0</td>\n",
       "      <td>0.00</td>\n",
       "      <td>C553264065</td>\n",
       "      <td>0.0</td>\n",
       "      <td>0.0</td>\n",
       "      <td>1</td>\n",
       "      <td>0</td>\n",
       "    </tr>\n",
       "    <tr>\n",
       "      <th>3</th>\n",
       "      <td>1</td>\n",
       "      <td>CASH_OUT</td>\n",
       "      <td>181.00</td>\n",
       "      <td>C840083671</td>\n",
       "      <td>181.0</td>\n",
       "      <td>0.00</td>\n",
       "      <td>C38997010</td>\n",
       "      <td>21182.0</td>\n",
       "      <td>0.0</td>\n",
       "      <td>1</td>\n",
       "      <td>0</td>\n",
       "    </tr>\n",
       "    <tr>\n",
       "      <th>4</th>\n",
       "      <td>1</td>\n",
       "      <td>PAYMENT</td>\n",
       "      <td>11668.14</td>\n",
       "      <td>C2048537720</td>\n",
       "      <td>41554.0</td>\n",
       "      <td>29885.86</td>\n",
       "      <td>M1230701703</td>\n",
       "      <td>0.0</td>\n",
       "      <td>0.0</td>\n",
       "      <td>0</td>\n",
       "      <td>0</td>\n",
       "    </tr>\n",
       "  </tbody>\n",
       "</table>\n",
       "</div>"
      ],
      "text/plain": [
       "   step      type    amount     nameOrig  oldbalanceOrg  newbalanceOrig  \\\n",
       "0     1   PAYMENT   9839.64  C1231006815       170136.0       160296.36   \n",
       "1     1   PAYMENT   1864.28  C1666544295        21249.0        19384.72   \n",
       "2     1  TRANSFER    181.00  C1305486145          181.0            0.00   \n",
       "3     1  CASH_OUT    181.00   C840083671          181.0            0.00   \n",
       "4     1   PAYMENT  11668.14  C2048537720        41554.0        29885.86   \n",
       "\n",
       "      nameDest  oldbalanceDest  newbalanceDest  isFraud  isFlaggedFraud  \n",
       "0  M1979787155             0.0             0.0        0               0  \n",
       "1  M2044282225             0.0             0.0        0               0  \n",
       "2   C553264065             0.0             0.0        1               0  \n",
       "3    C38997010         21182.0             0.0        1               0  \n",
       "4  M1230701703             0.0             0.0        0               0  "
      ]
     },
     "execution_count": 3,
     "metadata": {},
     "output_type": "execute_result"
    }
   ],
   "source": [
    "df.head()"
   ]
  },
  {
   "cell_type": "code",
   "execution_count": 5,
   "id": "0deae976-6a4f-4fdc-b0a4-08ecdfa2d88d",
   "metadata": {},
   "outputs": [
    {
     "name": "stdout",
     "output_type": "stream",
     "text": [
      "<class 'pandas.core.frame.DataFrame'>\n",
      "RangeIndex: 6362620 entries, 0 to 6362619\n",
      "Data columns (total 11 columns):\n",
      " #   Column          Dtype  \n",
      "---  ------          -----  \n",
      " 0   step            int64  \n",
      " 1   type            object \n",
      " 2   amount          float64\n",
      " 3   nameOrig        object \n",
      " 4   oldbalanceOrg   float64\n",
      " 5   newbalanceOrig  float64\n",
      " 6   nameDest        object \n",
      " 7   oldbalanceDest  float64\n",
      " 8   newbalanceDest  float64\n",
      " 9   isFraud         int64  \n",
      " 10  isFlaggedFraud  int64  \n",
      "dtypes: float64(5), int64(3), object(3)\n",
      "memory usage: 534.0+ MB\n"
     ]
    }
   ],
   "source": [
    "df.info()"
   ]
  },
  {
   "cell_type": "markdown",
   "id": "28cb89c8-8b10-40ea-9036-bb4c52c2d633",
   "metadata": {},
   "source": [
    "### Пустых значений нет"
   ]
  },
  {
   "cell_type": "code",
   "execution_count": 6,
   "id": "b195824a-bf14-4b86-94b0-f2dd21b79547",
   "metadata": {},
   "outputs": [
    {
     "data": {
      "text/plain": [
       "step              0\n",
       "type              0\n",
       "amount            0\n",
       "nameOrig          0\n",
       "oldbalanceOrg     0\n",
       "newbalanceOrig    0\n",
       "nameDest          0\n",
       "oldbalanceDest    0\n",
       "newbalanceDest    0\n",
       "isFraud           0\n",
       "isFlaggedFraud    0\n",
       "dtype: int64"
      ]
     },
     "execution_count": 6,
     "metadata": {},
     "output_type": "execute_result"
    }
   ],
   "source": [
    "df.isna().sum()"
   ]
  },
  {
   "cell_type": "markdown",
   "id": "7518305d-638d-45d3-8df6-ce4257633565",
   "metadata": {},
   "source": [
    "### Дубликатов нет"
   ]
  },
  {
   "cell_type": "code",
   "execution_count": 7,
   "id": "8c30a5a1-eca8-4463-8522-67aff24831f7",
   "metadata": {},
   "outputs": [
    {
     "name": "stdout",
     "output_type": "stream",
     "text": [
      "Дубликаты: 0\n"
     ]
    }
   ],
   "source": [
    "print(\"Дубликаты:\", df.duplicated().sum())"
   ]
  },
  {
   "cell_type": "markdown",
   "id": "715cd419-34a2-4d75-ae16-f1c010dafba8",
   "metadata": {},
   "source": [
    "### Количество уникальных значений в каждом столбце"
   ]
  },
  {
   "cell_type": "code",
   "execution_count": 8,
   "id": "d2436c67-a78a-4836-8f62-0080fc3bbd3e",
   "metadata": {},
   "outputs": [
    {
     "data": {
      "text/plain": [
       "step                  743\n",
       "type                    5\n",
       "amount            5316900\n",
       "nameOrig          6353307\n",
       "oldbalanceOrg     1845844\n",
       "newbalanceOrig    2682586\n",
       "nameDest          2722362\n",
       "oldbalanceDest    3614697\n",
       "newbalanceDest    3555499\n",
       "isFraud                 2\n",
       "isFlaggedFraud          2\n",
       "dtype: int64"
      ]
     },
     "execution_count": 8,
     "metadata": {},
     "output_type": "execute_result"
    }
   ],
   "source": [
    "df.nunique()"
   ]
  },
  {
   "cell_type": "markdown",
   "id": "762d05a6-2d57-442d-bad1-4dcfd14a3c04",
   "metadata": {},
   "source": [
    "### Отрицательные суммы отсутствуют"
   ]
  },
  {
   "cell_type": "code",
   "execution_count": 5,
   "id": "439c9101-c80a-48d8-8733-38f383b0a424",
   "metadata": {},
   "outputs": [
    {
     "name": "stdout",
     "output_type": "stream",
     "text": [
      "Отрицательные суммы: 0\n"
     ]
    }
   ],
   "source": [
    "print(\"Отрицательные суммы:\", (df['amount'] < 0).sum())"
   ]
  },
  {
   "cell_type": "markdown",
   "id": "80dffc49-0e2b-428f-86d1-0fcd7bd751cc",
   "metadata": {},
   "source": [
    "### Мошеннические транзкции бывают только в CASH_OUT и TRANSFER"
   ]
  },
  {
   "cell_type": "code",
   "execution_count": 10,
   "id": "fea40a71-b1b4-418f-8c02-9a5f6b6c2378",
   "metadata": {},
   "outputs": [
    {
     "data": {
      "text/html": [
       "<div>\n",
       "<style scoped>\n",
       "    .dataframe tbody tr th:only-of-type {\n",
       "        vertical-align: middle;\n",
       "    }\n",
       "\n",
       "    .dataframe tbody tr th {\n",
       "        vertical-align: top;\n",
       "    }\n",
       "\n",
       "    .dataframe thead th {\n",
       "        text-align: right;\n",
       "    }\n",
       "</style>\n",
       "<table border=\"1\" class=\"dataframe\">\n",
       "  <thead>\n",
       "    <tr style=\"text-align: right;\">\n",
       "      <th></th>\n",
       "      <th>type</th>\n",
       "      <th>isFraud</th>\n",
       "    </tr>\n",
       "  </thead>\n",
       "  <tbody>\n",
       "    <tr>\n",
       "      <th>0</th>\n",
       "      <td>CASH_IN</td>\n",
       "      <td>0</td>\n",
       "    </tr>\n",
       "    <tr>\n",
       "      <th>1</th>\n",
       "      <td>CASH_OUT</td>\n",
       "      <td>4116</td>\n",
       "    </tr>\n",
       "    <tr>\n",
       "      <th>2</th>\n",
       "      <td>DEBIT</td>\n",
       "      <td>0</td>\n",
       "    </tr>\n",
       "    <tr>\n",
       "      <th>3</th>\n",
       "      <td>PAYMENT</td>\n",
       "      <td>0</td>\n",
       "    </tr>\n",
       "    <tr>\n",
       "      <th>4</th>\n",
       "      <td>TRANSFER</td>\n",
       "      <td>4097</td>\n",
       "    </tr>\n",
       "  </tbody>\n",
       "</table>\n",
       "</div>"
      ],
      "text/plain": [
       "       type  isFraud\n",
       "0   CASH_IN        0\n",
       "1  CASH_OUT     4116\n",
       "2     DEBIT        0\n",
       "3   PAYMENT        0\n",
       "4  TRANSFER     4097"
      ]
     },
     "execution_count": 10,
     "metadata": {},
     "output_type": "execute_result"
    }
   ],
   "source": [
    "transaction_fraud = df.groupby(\"type\")[\"isFraud\"].sum().reset_index()\n",
    "transaction_fraud"
   ]
  },
  {
   "cell_type": "code",
   "execution_count": 12,
   "id": "fb25799e-bcb4-4861-9b0c-b4b19d401713",
   "metadata": {},
   "outputs": [
    {
     "data": {
      "image/png": "[encoded data removed]",
      "text/plain": [
       "<Figure size 1000x400 with 1 Axes>"
      ]
     },
     "metadata": {},
     "output_type": "display_data"
    }
   ],
   "source": [
    "plt.figure(figsize=(10, 4))\n",
    "sns.countplot(x='type', hue='isFraud', data=df, palette = {0: \"skyblue\", 1: \"tomato\"})\n",
    "plt.yscale('log', base = 10)\n",
    "plt.title('Fraud Count by Transaction Type')\n",
    "plt.xlabel('Transaction Type')\n",
    "plt.ylabel('Count')\n",
    "plt.xticks(rotation=45)\n",
    "plt.show()"
   ]
  },
  {
   "cell_type": "markdown",
   "id": "663bd3b0-384d-4327-8e78-6988f3727b0a",
   "metadata": {},
   "source": [
    "### На графике видно, что доля мошеннических транзакций крайне низкая, самый высокий показатель составил около 1% для транзакции 'TRANSFER'"
   ]
  },
  {
   "cell_type": "code",
   "execution_count": 20,
   "id": "89269696-4cbb-4818-b462-a21b79bac965",
   "metadata": {},
   "outputs": [
    {
     "data": {
      "image/png": "[encoded data removed]",
      "text/plain": [
       "<Figure size 640x480 with 1 Axes>"
      ]
     },
     "metadata": {},
     "output_type": "display_data"
    }
   ],
   "source": [
    "fraud_by_type = df.groupby('type')['isFraud'].mean()\n",
    "\n",
    "sns.barplot(x=fraud_by_type.index, y=fraud_by_type.values, color = 'tomato')\n",
    "plt.title(\"Fraud Rate by Transaction Type\")\n",
    "plt.xlabel(\"Transaction Type\")\n",
    "plt.ylabel(\"Fraud Rate\")\n",
    "plt.show()"
   ]
  },
  {
   "cell_type": "markdown",
   "id": "8c5d2e34-72d8-459c-831b-cd47a4e84809",
   "metadata": {},
   "source": [
    "###  В двух записях у отправителя баланс после транзакции стал больше, чем до (не учитываем CASH_IN) на сумму транзакции.\n",
    "### Удалять строки не стала, так как скорее всего это особенности генерации данных PaySim"
   ]
  },
  {
   "cell_type": "code",
   "execution_count": 11,
   "id": "0b3bc963-54ba-401a-8fad-a365d02ecd3d",
   "metadata": {},
   "outputs": [
    {
     "name": "stdout",
     "output_type": "stream",
     "text": [
      "Невалидных записей: 2\n"
     ]
    },
    {
     "data": {
      "text/html": [
       "<div>\n",
       "<style scoped>\n",
       "    .dataframe tbody tr th:only-of-type {\n",
       "        vertical-align: middle;\n",
       "    }\n",
       "\n",
       "    .dataframe tbody tr th {\n",
       "        vertical-align: top;\n",
       "    }\n",
       "\n",
       "    .dataframe thead th {\n",
       "        text-align: right;\n",
       "    }\n",
       "</style>\n",
       "<table border=\"1\" class=\"dataframe\">\n",
       "  <thead>\n",
       "    <tr style=\"text-align: right;\">\n",
       "      <th></th>\n",
       "      <th>step</th>\n",
       "      <th>type</th>\n",
       "      <th>amount</th>\n",
       "      <th>nameOrig</th>\n",
       "      <th>oldbalanceOrg</th>\n",
       "      <th>newbalanceOrig</th>\n",
       "      <th>nameDest</th>\n",
       "      <th>oldbalanceDest</th>\n",
       "      <th>newbalanceDest</th>\n",
       "      <th>isFraud</th>\n",
       "      <th>isFlaggedFraud</th>\n",
       "    </tr>\n",
       "  </thead>\n",
       "  <tbody>\n",
       "    <tr>\n",
       "      <th>34076</th>\n",
       "      <td>8</td>\n",
       "      <td>CASH_OUT</td>\n",
       "      <td>88553.31</td>\n",
       "      <td>C319673957</td>\n",
       "      <td>67106.46</td>\n",
       "      <td>88553.31</td>\n",
       "      <td>C932634391</td>\n",
       "      <td>67106.46</td>\n",
       "      <td>0.00</td>\n",
       "      <td>0</td>\n",
       "      <td>0</td>\n",
       "    </tr>\n",
       "    <tr>\n",
       "      <th>34779</th>\n",
       "      <td>8</td>\n",
       "      <td>CASH_OUT</td>\n",
       "      <td>106659.84</td>\n",
       "      <td>C638668928</td>\n",
       "      <td>80084.58</td>\n",
       "      <td>106659.84</td>\n",
       "      <td>C224342296</td>\n",
       "      <td>80084.58</td>\n",
       "      <td>92322.89</td>\n",
       "      <td>0</td>\n",
       "      <td>0</td>\n",
       "    </tr>\n",
       "  </tbody>\n",
       "</table>\n",
       "</div>"
      ],
      "text/plain": [
       "       step      type     amount    nameOrig  oldbalanceOrg  newbalanceOrig  \\\n",
       "34076     8  CASH_OUT   88553.31  C319673957       67106.46        88553.31   \n",
       "34779     8  CASH_OUT  106659.84  C638668928       80084.58       106659.84   \n",
       "\n",
       "         nameDest  oldbalanceDest  newbalanceDest  isFraud  isFlaggedFraud  \n",
       "34076  C932634391        67106.46            0.00        0               0  \n",
       "34779  C224342296        80084.58        92322.89        0               0  "
      ]
     },
     "execution_count": 11,
     "metadata": {},
     "output_type": "execute_result"
    }
   ],
   "source": [
    "mask = (df['type'] != 'CASH_IN') & (df['oldbalanceOrg'] < df['newbalanceOrig'])\n",
    "df_invalid = df[mask]\n",
    "\n",
    "print(\"Невалидных записей:\", len(df_invalid))\n",
    "df_invalid"
   ]
  },
  {
   "cell_type": "markdown",
   "id": "6b77a4df-f519-48d2-a95a-26103e200115",
   "metadata": {},
   "source": [
    "### В 1198410 записях после TRANSFER и CASH_IN баланс у получателя стал меньше\n",
    "### Удалять строки не стала, так как это может исказить аналитику по общему объёму транзакций, поведению клиентов, вычислению доли мошенничества"
   ]
  },
  {
   "cell_type": "code",
   "execution_count": 12,
   "id": "2dfa45e0-2d3d-41a8-96df-900e1dca21c4",
   "metadata": {},
   "outputs": [
    {
     "name": "stdout",
     "output_type": "stream",
     "text": [
      "Невалидных записей по получателю: 1198410\n"
     ]
    }
   ],
   "source": [
    "mask = ((df['type'].isin(['TRANSFER', 'CASH_IN'])) & (df['oldbalanceDest'] > df['newbalanceDest']))\n",
    "df_invalid_dest = df[mask]\n",
    "\n",
    "print(\"Невалидных записей по получателю:\", len(df_invalid_dest))"
   ]
  },
  {
   "cell_type": "markdown",
   "id": "8242fed6-0d34-44a6-9568-5294e8dd5187",
   "metadata": {},
   "source": [
    "### 1769 айди, которые могут быть и отправителем, и получателем "
   ]
  },
  {
   "cell_type": "code",
   "execution_count": 13,
   "id": "e7dae518-f09c-40ba-8e82-ade0df00b89a",
   "metadata": {},
   "outputs": [
    {
     "data": {
      "text/plain": [
       "1769"
      ]
     },
     "execution_count": 13,
     "metadata": {},
     "output_type": "execute_result"
    }
   ],
   "source": [
    "set_orig = set(df['nameOrig'])\n",
    "set_dest = set(df['nameDest'])\n",
    "\n",
    "common_accounts = set_orig & set_dest\n",
    "len(common_accounts)"
   ]
  },
  {
   "cell_type": "markdown",
   "id": "6b708c60-8b18-4649-9ba4-e7567bedf5a6",
   "metadata": {},
   "source": [
    "### Переименовала колонки для удобства дальнейшей работы"
   ]
  },
  {
   "cell_type": "code",
   "execution_count": 6,
   "id": "fcd905d7-dc99-4388-9e13-e3f8045660a0",
   "metadata": {},
   "outputs": [],
   "source": [
    "df = df.rename(columns = {\n",
    "    'step': 'step_id',\n",
    "    'nameOrig': 'orig_client_id',\n",
    "    'type': 'type_name',\n",
    "    'oldbalanceOrg': 'old_balance_orig',\n",
    "    'newbalanceOrig': 'new_balance_orig',\n",
    "    'nameDest': 'dest_client_id',\n",
    "    'oldbalanceDest': 'old_balance_dest',\n",
    "    'newbalanceDest': 'new_balance_dest',\n",
    "    'isFraud': 'is_fraud',\n",
    "    'isFlaggedFraud': 'is_flagged_fraud'\n",
    "})"
   ]
  },
  {
   "cell_type": "markdown",
   "id": "2891d717-0869-4deb-a1e4-ae69fdc055a4",
   "metadata": {},
   "source": [
    "### Начала создавать таблицы измерений"
   ]
  },
  {
   "cell_type": "code",
   "execution_count": 18,
   "id": "ed70060d-42bc-4d69-9cbc-df3909cdbfdd",
   "metadata": {},
   "outputs": [],
   "source": [
    "transaction_types = (df[['type_name']].drop_duplicates().reset_index(drop=True).rename(columns={'type': 'type_name'}))\n",
    "transaction_types['type_id'] = transaction_types.index+1\n",
    "transaction_types = transaction_types[['type_id', 'type_name']]"
   ]
  },
  {
   "cell_type": "code",
   "execution_count": 19,
   "id": "4f542fd7-fd77-4cca-81bc-a2aca1f8dded",
   "metadata": {},
   "outputs": [
    {
     "data": {
      "text/html": [
       "<div>\n",
       "<style scoped>\n",
       "    .dataframe tbody tr th:only-of-type {\n",
       "        vertical-align: middle;\n",
       "    }\n",
       "\n",
       "    .dataframe tbody tr th {\n",
       "        vertical-align: top;\n",
       "    }\n",
       "\n",
       "    .dataframe thead th {\n",
       "        text-align: right;\n",
       "    }\n",
       "</style>\n",
       "<table border=\"1\" class=\"dataframe\">\n",
       "  <thead>\n",
       "    <tr style=\"text-align: right;\">\n",
       "      <th></th>\n",
       "      <th>type_id</th>\n",
       "      <th>type_name</th>\n",
       "    </tr>\n",
       "  </thead>\n",
       "  <tbody>\n",
       "    <tr>\n",
       "      <th>0</th>\n",
       "      <td>1</td>\n",
       "      <td>PAYMENT</td>\n",
       "    </tr>\n",
       "    <tr>\n",
       "      <th>1</th>\n",
       "      <td>2</td>\n",
       "      <td>TRANSFER</td>\n",
       "    </tr>\n",
       "    <tr>\n",
       "      <th>2</th>\n",
       "      <td>3</td>\n",
       "      <td>CASH_OUT</td>\n",
       "    </tr>\n",
       "    <tr>\n",
       "      <th>3</th>\n",
       "      <td>4</td>\n",
       "      <td>DEBIT</td>\n",
       "    </tr>\n",
       "    <tr>\n",
       "      <th>4</th>\n",
       "      <td>5</td>\n",
       "      <td>CASH_IN</td>\n",
       "    </tr>\n",
       "  </tbody>\n",
       "</table>\n",
       "</div>"
      ],
      "text/plain": [
       "   type_id type_name\n",
       "0        1   PAYMENT\n",
       "1        2  TRANSFER\n",
       "2        3  CASH_OUT\n",
       "3        4     DEBIT\n",
       "4        5   CASH_IN"
      ]
     },
     "execution_count": 19,
     "metadata": {},
     "output_type": "execute_result"
    }
   ],
   "source": [
    "transaction_types"
   ]
  },
  {
   "cell_type": "code",
   "execution_count": 7,
   "id": "f3568115-420e-4323-85db-1c1ae9558b0b",
   "metadata": {},
   "outputs": [],
   "source": [
    "clients = pd.concat([df['orig_client_id'], df['dest_client_id']]).drop_duplicates().reset_index(drop=True)\n",
    "clients = pd.DataFrame({'client_id': clients.index + 1,  \n",
    "                        'client_name': clients})"
   ]
  },
  {
   "cell_type": "code",
   "execution_count": 8,
   "id": "f3ac05d0-7af6-453e-8eae-4e8353e87d74",
   "metadata": {},
   "outputs": [
    {
     "data": {
      "text/html": [
       "<div>\n",
       "<style scoped>\n",
       "    .dataframe tbody tr th:only-of-type {\n",
       "        vertical-align: middle;\n",
       "    }\n",
       "\n",
       "    .dataframe tbody tr th {\n",
       "        vertical-align: top;\n",
       "    }\n",
       "\n",
       "    .dataframe thead th {\n",
       "        text-align: right;\n",
       "    }\n",
       "</style>\n",
       "<table border=\"1\" class=\"dataframe\">\n",
       "  <thead>\n",
       "    <tr style=\"text-align: right;\">\n",
       "      <th></th>\n",
       "      <th>client_id</th>\n",
       "      <th>client_name</th>\n",
       "    </tr>\n",
       "  </thead>\n",
       "  <tbody>\n",
       "    <tr>\n",
       "      <th>0</th>\n",
       "      <td>1</td>\n",
       "      <td>C1231006815</td>\n",
       "    </tr>\n",
       "    <tr>\n",
       "      <th>1</th>\n",
       "      <td>2</td>\n",
       "      <td>C1666544295</td>\n",
       "    </tr>\n",
       "    <tr>\n",
       "      <th>2</th>\n",
       "      <td>3</td>\n",
       "      <td>C1305486145</td>\n",
       "    </tr>\n",
       "    <tr>\n",
       "      <th>3</th>\n",
       "      <td>4</td>\n",
       "      <td>C840083671</td>\n",
       "    </tr>\n",
       "    <tr>\n",
       "      <th>4</th>\n",
       "      <td>5</td>\n",
       "      <td>C2048537720</td>\n",
       "    </tr>\n",
       "  </tbody>\n",
       "</table>\n",
       "</div>"
      ],
      "text/plain": [
       "   client_id  client_name\n",
       "0          1  C1231006815\n",
       "1          2  C1666544295\n",
       "2          3  C1305486145\n",
       "3          4   C840083671\n",
       "4          5  C2048537720"
      ]
     },
     "execution_count": 8,
     "metadata": {},
     "output_type": "execute_result"
    }
   ],
   "source": [
    "clients.head()"
   ]
  },
  {
   "cell_type": "code",
   "execution_count": 9,
   "id": "2b246a74-866b-4827-bc56-edbc89e73df6",
   "metadata": {},
   "outputs": [
    {
     "name": "stdout",
     "output_type": "stream",
     "text": [
      "Уникальных отправителей: 6353307\n",
      "Уникальных получателей: 2722362\n",
      "Всего уникальных клиентов: 9073900\n",
      "Всего строк в фактах: 6362620\n"
     ]
    }
   ],
   "source": [
    "print('Уникальных отправителей:', df['orig_client_id'].nunique())\n",
    "print('Уникальных получателей:', df['dest_client_id'].nunique())\n",
    "print('Всего уникальных клиентов:', pd.concat([df['orig_client_id'], df['dest_client_id']]).nunique())\n",
    "print('Всего строк в фактах:', len(df))"
   ]
  },
  {
   "cell_type": "code",
   "execution_count": 10,
   "id": "16e80e16-d2f9-4008-817e-648e69368251",
   "metadata": {},
   "outputs": [],
   "source": [
    "dates = pd.DataFrame({'step_id': df['step_id'].unique()}).sort_values('step_id').reset_index(drop=True)\n",
    "\n",
    "dates['hour_of_day'] = ((dates['step_id'] - 1) % 24) + 1        # 1–24\n",
    "dates['day_of_week'] = (( (dates['step_id'] - 1) // 24 ) % 7) + 1  # 1–7\n",
    "dates['week_of_month'] = (dates['step_id'] - 1) // (24*7) + 1  # 1–5\n"
   ]
  },
  {
   "cell_type": "code",
   "execution_count": 284,
   "id": "a23868ed-8048-4ec8-8ac8-efe17c0efe62",
   "metadata": {},
   "outputs": [
    {
     "data": {
      "text/html": [
       "<div>\n",
       "<style scoped>\n",
       "    .dataframe tbody tr th:only-of-type {\n",
       "        vertical-align: middle;\n",
       "    }\n",
       "\n",
       "    .dataframe tbody tr th {\n",
       "        vertical-align: top;\n",
       "    }\n",
       "\n",
       "    .dataframe thead th {\n",
       "        text-align: right;\n",
       "    }\n",
       "</style>\n",
       "<table border=\"1\" class=\"dataframe\">\n",
       "  <thead>\n",
       "    <tr style=\"text-align: right;\">\n",
       "      <th></th>\n",
       "      <th>step_id</th>\n",
       "      <th>hour_of_day</th>\n",
       "      <th>day_of_week</th>\n",
       "      <th>week_of_month</th>\n",
       "    </tr>\n",
       "  </thead>\n",
       "  <tbody>\n",
       "    <tr>\n",
       "      <th>0</th>\n",
       "      <td>1</td>\n",
       "      <td>1</td>\n",
       "      <td>1</td>\n",
       "      <td>1</td>\n",
       "    </tr>\n",
       "    <tr>\n",
       "      <th>1</th>\n",
       "      <td>2</td>\n",
       "      <td>2</td>\n",
       "      <td>1</td>\n",
       "      <td>1</td>\n",
       "    </tr>\n",
       "    <tr>\n",
       "      <th>2</th>\n",
       "      <td>3</td>\n",
       "      <td>3</td>\n",
       "      <td>1</td>\n",
       "      <td>1</td>\n",
       "    </tr>\n",
       "    <tr>\n",
       "      <th>3</th>\n",
       "      <td>4</td>\n",
       "      <td>4</td>\n",
       "      <td>1</td>\n",
       "      <td>1</td>\n",
       "    </tr>\n",
       "    <tr>\n",
       "      <th>4</th>\n",
       "      <td>5</td>\n",
       "      <td>5</td>\n",
       "      <td>1</td>\n",
       "      <td>1</td>\n",
       "    </tr>\n",
       "  </tbody>\n",
       "</table>\n",
       "</div>"
      ],
      "text/plain": [
       "   step_id  hour_of_day  day_of_week  week_of_month\n",
       "0        1            1            1              1\n",
       "1        2            2            1              1\n",
       "2        3            3            1              1\n",
       "3        4            4            1              1\n",
       "4        5            5            1              1"
      ]
     },
     "execution_count": 284,
     "metadata": {},
     "output_type": "execute_result"
    }
   ],
   "source": [
    "dates.head()"
   ]
  },
  {
   "cell_type": "code",
   "execution_count": 11,
   "id": "fc82162b-0cef-499a-be67-be278b1fc62e",
   "metadata": {},
   "outputs": [
    {
     "data": {
      "text/plain": [
       "step_id          743\n",
       "hour_of_day       24\n",
       "day_of_week        7\n",
       "week_of_month      5\n",
       "dtype: int64"
      ]
     },
     "execution_count": 11,
     "metadata": {},
     "output_type": "execute_result"
    }
   ],
   "source": [
    "dates.nunique()"
   ]
  },
  {
   "cell_type": "markdown",
   "id": "63a4c1bc-28a3-415d-9e7c-e511c6992607",
   "metadata": {},
   "source": [
    "### Добавляю в таблицу фактов информацию из таблиц измерений"
   ]
  },
  {
   "cell_type": "code",
   "execution_count": null,
   "id": "a9dbeecf-eece-4192-9b0f-eb41ba1b9028",
   "metadata": {},
   "outputs": [],
   "source": [
    "df = df.merge(transaction_types, on='type_name', how='left')"
   ]
  },
  {
   "cell_type": "code",
   "execution_count": null,
   "id": "cb8afe65-bf55-4d5a-a412-96131f2b9d46",
   "metadata": {},
   "outputs": [],
   "source": [
    "df = df.drop(columns=['type_id_x'])"
   ]
  },
  {
   "cell_type": "code",
   "execution_count": null,
   "id": "7073b15f-502a-44b3-aaa3-3759a28cec2c",
   "metadata": {},
   "outputs": [],
   "source": [
    "df = df.drop(columns=['type_name'])"
   ]
  },
  {
   "cell_type": "code",
   "execution_count": null,
   "id": "3d033084-c174-438f-9c10-0d7b3672d22d",
   "metadata": {},
   "outputs": [],
   "source": [
    "df = df.rename(columns={'type_id_y': 'type_id'})"
   ]
  },
  {
   "cell_type": "code",
   "execution_count": null,
   "id": "4cfd989c-c585-400b-8161-efb0dcb86eef",
   "metadata": {},
   "outputs": [],
   "source": []
  },
  {
   "cell_type": "code",
   "execution_count": null,
   "id": "986b6d6d-b915-4f4f-b280-10efccbf87a3",
   "metadata": {},
   "outputs": [],
   "source": [
    "df = df.merge(clients, left_on='orig_client_id', right_on='client_name', how='left')\n",
    "df['orig_client_id'] = df['client_id'] \n",
    "df.head()"
   ]
  },
  {
   "cell_type": "code",
   "execution_count": null,
   "id": "df15638c-de2e-4408-9ca5-22acd09c7fb7",
   "metadata": {},
   "outputs": [],
   "source": [
    "df = df.merge(clients, left_on='dest_client_id', right_on='client_name', how='left')\n",
    "df['dest_client_id'] = df['client_id'] \n",
    "df.head()"
   ]
  },
  {
   "cell_type": "code",
   "execution_count": null,
   "id": "e00b31ce-b93c-4bbc-a843-af042b0883fa",
   "metadata": {},
   "outputs": [],
   "source": [
    "df['orig_clent_id'].dtype, clients['client_name'].dtype"
   ]
  },
  {
   "cell_type": "code",
   "execution_count": 256,
   "id": "4a98e0d4-1b76-4ce8-ac10-68ccd884b4b6",
   "metadata": {},
   "outputs": [
    {
     "data": {
      "text/html": [
       "<div>\n",
       "<style scoped>\n",
       "    .dataframe tbody tr th:only-of-type {\n",
       "        vertical-align: middle;\n",
       "    }\n",
       "\n",
       "    .dataframe tbody tr th {\n",
       "        vertical-align: top;\n",
       "    }\n",
       "\n",
       "    .dataframe thead th {\n",
       "        text-align: right;\n",
       "    }\n",
       "</style>\n",
       "<table border=\"1\" class=\"dataframe\">\n",
       "  <thead>\n",
       "    <tr style=\"text-align: right;\">\n",
       "      <th></th>\n",
       "      <th>step_id</th>\n",
       "      <th>amount</th>\n",
       "      <th>orig_client_id</th>\n",
       "      <th>old_balance_orig</th>\n",
       "      <th>new_balance_orig</th>\n",
       "      <th>dest_client_id</th>\n",
       "      <th>old_balance_dest</th>\n",
       "      <th>new_balance_dest</th>\n",
       "      <th>is_fraud</th>\n",
       "      <th>is_flagged_fraud</th>\n",
       "      <th>type_id</th>\n",
       "      <th>client_id_x</th>\n",
       "      <th>client_name_x</th>\n",
       "      <th>client_id_y</th>\n",
       "      <th>client_name_y</th>\n",
       "      <th>client_id</th>\n",
       "      <th>client_name</th>\n",
       "    </tr>\n",
       "  </thead>\n",
       "  <tbody>\n",
       "    <tr>\n",
       "      <th>0</th>\n",
       "      <td>1</td>\n",
       "      <td>9839.64</td>\n",
       "      <td>1</td>\n",
       "      <td>170136.0</td>\n",
       "      <td>160296.36</td>\n",
       "      <td>6353308</td>\n",
       "      <td>0.0</td>\n",
       "      <td>0.0</td>\n",
       "      <td>0</td>\n",
       "      <td>0</td>\n",
       "      <td>1</td>\n",
       "      <td>1</td>\n",
       "      <td>C1231006815</td>\n",
       "      <td>6353308</td>\n",
       "      <td>M1979787155</td>\n",
       "      <td>6353308</td>\n",
       "      <td>M1979787155</td>\n",
       "    </tr>\n",
       "    <tr>\n",
       "      <th>1</th>\n",
       "      <td>1</td>\n",
       "      <td>1864.28</td>\n",
       "      <td>2</td>\n",
       "      <td>21249.0</td>\n",
       "      <td>19384.72</td>\n",
       "      <td>6353309</td>\n",
       "      <td>0.0</td>\n",
       "      <td>0.0</td>\n",
       "      <td>0</td>\n",
       "      <td>0</td>\n",
       "      <td>1</td>\n",
       "      <td>2</td>\n",
       "      <td>C1666544295</td>\n",
       "      <td>6353309</td>\n",
       "      <td>M2044282225</td>\n",
       "      <td>6353309</td>\n",
       "      <td>M2044282225</td>\n",
       "    </tr>\n",
       "    <tr>\n",
       "      <th>2</th>\n",
       "      <td>1</td>\n",
       "      <td>181.00</td>\n",
       "      <td>3</td>\n",
       "      <td>181.0</td>\n",
       "      <td>0.00</td>\n",
       "      <td>6353310</td>\n",
       "      <td>0.0</td>\n",
       "      <td>0.0</td>\n",
       "      <td>1</td>\n",
       "      <td>0</td>\n",
       "      <td>2</td>\n",
       "      <td>3</td>\n",
       "      <td>C1305486145</td>\n",
       "      <td>6353310</td>\n",
       "      <td>C553264065</td>\n",
       "      <td>6353310</td>\n",
       "      <td>C553264065</td>\n",
       "    </tr>\n",
       "    <tr>\n",
       "      <th>3</th>\n",
       "      <td>1</td>\n",
       "      <td>181.00</td>\n",
       "      <td>4</td>\n",
       "      <td>181.0</td>\n",
       "      <td>0.00</td>\n",
       "      <td>6353311</td>\n",
       "      <td>21182.0</td>\n",
       "      <td>0.0</td>\n",
       "      <td>1</td>\n",
       "      <td>0</td>\n",
       "      <td>3</td>\n",
       "      <td>4</td>\n",
       "      <td>C840083671</td>\n",
       "      <td>6353311</td>\n",
       "      <td>C38997010</td>\n",
       "      <td>6353311</td>\n",
       "      <td>C38997010</td>\n",
       "    </tr>\n",
       "    <tr>\n",
       "      <th>4</th>\n",
       "      <td>1</td>\n",
       "      <td>11668.14</td>\n",
       "      <td>5</td>\n",
       "      <td>41554.0</td>\n",
       "      <td>29885.86</td>\n",
       "      <td>6353312</td>\n",
       "      <td>0.0</td>\n",
       "      <td>0.0</td>\n",
       "      <td>0</td>\n",
       "      <td>0</td>\n",
       "      <td>1</td>\n",
       "      <td>5</td>\n",
       "      <td>C2048537720</td>\n",
       "      <td>6353312</td>\n",
       "      <td>M1230701703</td>\n",
       "      <td>6353312</td>\n",
       "      <td>M1230701703</td>\n",
       "    </tr>\n",
       "  </tbody>\n",
       "</table>\n",
       "</div>"
      ],
      "text/plain": [
       "   step_id    amount orig_client_id  old_balance_orig  new_balance_orig  \\\n",
       "0        1   9839.64              1          170136.0         160296.36   \n",
       "1        1   1864.28              2           21249.0          19384.72   \n",
       "2        1    181.00              3             181.0              0.00   \n",
       "3        1    181.00              4             181.0              0.00   \n",
       "4        1  11668.14              5           41554.0          29885.86   \n",
       "\n",
       "   dest_client_id  old_balance_dest  new_balance_dest  is_fraud  \\\n",
       "0         6353308               0.0               0.0         0   \n",
       "1         6353309               0.0               0.0         0   \n",
       "2         6353310               0.0               0.0         1   \n",
       "3         6353311           21182.0               0.0         1   \n",
       "4         6353312               0.0               0.0         0   \n",
       "\n",
       "   is_flagged_fraud  type_id  client_id_x client_name_x  client_id_y  \\\n",
       "0                 0        1            1   C1231006815      6353308   \n",
       "1                 0        1            2   C1666544295      6353309   \n",
       "2                 0        2            3   C1305486145      6353310   \n",
       "3                 0        3            4    C840083671      6353311   \n",
       "4                 0        1            5   C2048537720      6353312   \n",
       "\n",
       "  client_name_y  client_id  client_name  \n",
       "0   M1979787155    6353308  M1979787155  \n",
       "1   M2044282225    6353309  M2044282225  \n",
       "2    C553264065    6353310   C553264065  \n",
       "3     C38997010    6353311    C38997010  \n",
       "4   M1230701703    6353312  M1230701703  "
      ]
     },
     "execution_count": 256,
     "metadata": {},
     "output_type": "execute_result"
    }
   ],
   "source": [
    "df.head()"
   ]
  },
  {
   "cell_type": "code",
   "execution_count": 258,
   "id": "72041a1a-1f19-4de5-9282-cafb1c5cc47f",
   "metadata": {},
   "outputs": [],
   "source": [
    "df = df.drop(columns=['client_id_x', 'client_name_x', 'client_id_y', 'client_name_y', 'client_id', 'client_name'])"
   ]
  },
  {
   "cell_type": "code",
   "execution_count": 259,
   "id": "35b4f957-a41e-461f-a892-66859e8016c6",
   "metadata": {
    "scrolled": true
   },
   "outputs": [
    {
     "data": {
      "text/html": [
       "<div>\n",
       "<style scoped>\n",
       "    .dataframe tbody tr th:only-of-type {\n",
       "        vertical-align: middle;\n",
       "    }\n",
       "\n",
       "    .dataframe tbody tr th {\n",
       "        vertical-align: top;\n",
       "    }\n",
       "\n",
       "    .dataframe thead th {\n",
       "        text-align: right;\n",
       "    }\n",
       "</style>\n",
       "<table border=\"1\" class=\"dataframe\">\n",
       "  <thead>\n",
       "    <tr style=\"text-align: right;\">\n",
       "      <th></th>\n",
       "      <th>step_id</th>\n",
       "      <th>amount</th>\n",
       "      <th>orig_client_id</th>\n",
       "      <th>old_balance_orig</th>\n",
       "      <th>new_balance_orig</th>\n",
       "      <th>dest_client_id</th>\n",
       "      <th>old_balance_dest</th>\n",
       "      <th>new_balance_dest</th>\n",
       "      <th>is_fraud</th>\n",
       "      <th>is_flagged_fraud</th>\n",
       "      <th>type_id</th>\n",
       "    </tr>\n",
       "  </thead>\n",
       "  <tbody>\n",
       "    <tr>\n",
       "      <th>0</th>\n",
       "      <td>1</td>\n",
       "      <td>9839.64</td>\n",
       "      <td>1</td>\n",
       "      <td>170136.0</td>\n",
       "      <td>160296.36</td>\n",
       "      <td>6353308</td>\n",
       "      <td>0.0</td>\n",
       "      <td>0.0</td>\n",
       "      <td>0</td>\n",
       "      <td>0</td>\n",
       "      <td>1</td>\n",
       "    </tr>\n",
       "    <tr>\n",
       "      <th>1</th>\n",
       "      <td>1</td>\n",
       "      <td>1864.28</td>\n",
       "      <td>2</td>\n",
       "      <td>21249.0</td>\n",
       "      <td>19384.72</td>\n",
       "      <td>6353309</td>\n",
       "      <td>0.0</td>\n",
       "      <td>0.0</td>\n",
       "      <td>0</td>\n",
       "      <td>0</td>\n",
       "      <td>1</td>\n",
       "    </tr>\n",
       "    <tr>\n",
       "      <th>2</th>\n",
       "      <td>1</td>\n",
       "      <td>181.00</td>\n",
       "      <td>3</td>\n",
       "      <td>181.0</td>\n",
       "      <td>0.00</td>\n",
       "      <td>6353310</td>\n",
       "      <td>0.0</td>\n",
       "      <td>0.0</td>\n",
       "      <td>1</td>\n",
       "      <td>0</td>\n",
       "      <td>2</td>\n",
       "    </tr>\n",
       "    <tr>\n",
       "      <th>3</th>\n",
       "      <td>1</td>\n",
       "      <td>181.00</td>\n",
       "      <td>4</td>\n",
       "      <td>181.0</td>\n",
       "      <td>0.00</td>\n",
       "      <td>6353311</td>\n",
       "      <td>21182.0</td>\n",
       "      <td>0.0</td>\n",
       "      <td>1</td>\n",
       "      <td>0</td>\n",
       "      <td>3</td>\n",
       "    </tr>\n",
       "    <tr>\n",
       "      <th>4</th>\n",
       "      <td>1</td>\n",
       "      <td>11668.14</td>\n",
       "      <td>5</td>\n",
       "      <td>41554.0</td>\n",
       "      <td>29885.86</td>\n",
       "      <td>6353312</td>\n",
       "      <td>0.0</td>\n",
       "      <td>0.0</td>\n",
       "      <td>0</td>\n",
       "      <td>0</td>\n",
       "      <td>1</td>\n",
       "    </tr>\n",
       "  </tbody>\n",
       "</table>\n",
       "</div>"
      ],
      "text/plain": [
       "   step_id    amount orig_client_id  old_balance_orig  new_balance_orig  \\\n",
       "0        1   9839.64              1          170136.0         160296.36   \n",
       "1        1   1864.28              2           21249.0          19384.72   \n",
       "2        1    181.00              3             181.0              0.00   \n",
       "3        1    181.00              4             181.0              0.00   \n",
       "4        1  11668.14              5           41554.0          29885.86   \n",
       "\n",
       "   dest_client_id  old_balance_dest  new_balance_dest  is_fraud  \\\n",
       "0         6353308               0.0               0.0         0   \n",
       "1         6353309               0.0               0.0         0   \n",
       "2         6353310               0.0               0.0         1   \n",
       "3         6353311           21182.0               0.0         1   \n",
       "4         6353312               0.0               0.0         0   \n",
       "\n",
       "   is_flagged_fraud  type_id  \n",
       "0                 0        1  \n",
       "1                 0        1  \n",
       "2                 0        2  \n",
       "3                 0        3  \n",
       "4                 0        1  "
      ]
     },
     "execution_count": 259,
     "metadata": {},
     "output_type": "execute_result"
    }
   ],
   "source": [
    "df.head()"
   ]
  },
  {
   "cell_type": "code",
   "execution_count": 260,
   "id": "f0485a57-f40f-44ce-99ad-e322365438c6",
   "metadata": {
    "scrolled": true
   },
   "outputs": [
    {
     "data": {
      "text/html": [
       "<div>\n",
       "<style scoped>\n",
       "    .dataframe tbody tr th:only-of-type {\n",
       "        vertical-align: middle;\n",
       "    }\n",
       "\n",
       "    .dataframe tbody tr th {\n",
       "        vertical-align: top;\n",
       "    }\n",
       "\n",
       "    .dataframe thead th {\n",
       "        text-align: right;\n",
       "    }\n",
       "</style>\n",
       "<table border=\"1\" class=\"dataframe\">\n",
       "  <thead>\n",
       "    <tr style=\"text-align: right;\">\n",
       "      <th></th>\n",
       "      <th>step_id</th>\n",
       "      <th>amount</th>\n",
       "      <th>orig_client_id</th>\n",
       "      <th>old_balance_orig</th>\n",
       "      <th>new_balance_orig</th>\n",
       "      <th>dest_client_id</th>\n",
       "      <th>old_balance_dest</th>\n",
       "      <th>new_balance_dest</th>\n",
       "      <th>is_fraud</th>\n",
       "      <th>is_flagged_fraud</th>\n",
       "      <th>type_id</th>\n",
       "      <th>hour_of_day</th>\n",
       "      <th>day_of_week</th>\n",
       "      <th>week_of_month</th>\n",
       "    </tr>\n",
       "  </thead>\n",
       "  <tbody>\n",
       "    <tr>\n",
       "      <th>0</th>\n",
       "      <td>1</td>\n",
       "      <td>9839.64</td>\n",
       "      <td>1</td>\n",
       "      <td>170136.0</td>\n",
       "      <td>160296.36</td>\n",
       "      <td>6353308</td>\n",
       "      <td>0.0</td>\n",
       "      <td>0.0</td>\n",
       "      <td>0</td>\n",
       "      <td>0</td>\n",
       "      <td>1</td>\n",
       "      <td>1</td>\n",
       "      <td>1</td>\n",
       "      <td>1</td>\n",
       "    </tr>\n",
       "    <tr>\n",
       "      <th>1</th>\n",
       "      <td>1</td>\n",
       "      <td>1864.28</td>\n",
       "      <td>2</td>\n",
       "      <td>21249.0</td>\n",
       "      <td>19384.72</td>\n",
       "      <td>6353309</td>\n",
       "      <td>0.0</td>\n",
       "      <td>0.0</td>\n",
       "      <td>0</td>\n",
       "      <td>0</td>\n",
       "      <td>1</td>\n",
       "      <td>1</td>\n",
       "      <td>1</td>\n",
       "      <td>1</td>\n",
       "    </tr>\n",
       "    <tr>\n",
       "      <th>2</th>\n",
       "      <td>1</td>\n",
       "      <td>181.00</td>\n",
       "      <td>3</td>\n",
       "      <td>181.0</td>\n",
       "      <td>0.00</td>\n",
       "      <td>6353310</td>\n",
       "      <td>0.0</td>\n",
       "      <td>0.0</td>\n",
       "      <td>1</td>\n",
       "      <td>0</td>\n",
       "      <td>2</td>\n",
       "      <td>1</td>\n",
       "      <td>1</td>\n",
       "      <td>1</td>\n",
       "    </tr>\n",
       "    <tr>\n",
       "      <th>3</th>\n",
       "      <td>1</td>\n",
       "      <td>181.00</td>\n",
       "      <td>4</td>\n",
       "      <td>181.0</td>\n",
       "      <td>0.00</td>\n",
       "      <td>6353311</td>\n",
       "      <td>21182.0</td>\n",
       "      <td>0.0</td>\n",
       "      <td>1</td>\n",
       "      <td>0</td>\n",
       "      <td>3</td>\n",
       "      <td>1</td>\n",
       "      <td>1</td>\n",
       "      <td>1</td>\n",
       "    </tr>\n",
       "    <tr>\n",
       "      <th>4</th>\n",
       "      <td>1</td>\n",
       "      <td>11668.14</td>\n",
       "      <td>5</td>\n",
       "      <td>41554.0</td>\n",
       "      <td>29885.86</td>\n",
       "      <td>6353312</td>\n",
       "      <td>0.0</td>\n",
       "      <td>0.0</td>\n",
       "      <td>0</td>\n",
       "      <td>0</td>\n",
       "      <td>1</td>\n",
       "      <td>1</td>\n",
       "      <td>1</td>\n",
       "      <td>1</td>\n",
       "    </tr>\n",
       "  </tbody>\n",
       "</table>\n",
       "</div>"
      ],
      "text/plain": [
       "   step_id    amount orig_client_id  old_balance_orig  new_balance_orig  \\\n",
       "0        1   9839.64              1          170136.0         160296.36   \n",
       "1        1   1864.28              2           21249.0          19384.72   \n",
       "2        1    181.00              3             181.0              0.00   \n",
       "3        1    181.00              4             181.0              0.00   \n",
       "4        1  11668.14              5           41554.0          29885.86   \n",
       "\n",
       "   dest_client_id  old_balance_dest  new_balance_dest  is_fraud  \\\n",
       "0         6353308               0.0               0.0         0   \n",
       "1         6353309               0.0               0.0         0   \n",
       "2         6353310               0.0               0.0         1   \n",
       "3         6353311           21182.0               0.0         1   \n",
       "4         6353312               0.0               0.0         0   \n",
       "\n",
       "   is_flagged_fraud  type_id  hour_of_day  day_of_week  week_of_month  \n",
       "0                 0        1            1            1              1  \n",
       "1                 0        1            1            1              1  \n",
       "2                 0        2            1            1              1  \n",
       "3                 0        3            1            1              1  \n",
       "4                 0        1            1            1              1  "
      ]
     },
     "execution_count": 260,
     "metadata": {},
     "output_type": "execute_result"
    }
   ],
   "source": [
    "df = df.merge(dates, on='step_id', how='left')\n",
    "df.head()"
   ]
  },
  {
   "cell_type": "code",
   "execution_count": 261,
   "id": "b2a19770-306c-4967-831b-f087a530035c",
   "metadata": {},
   "outputs": [],
   "source": [
    "df = df.drop(columns=['hour_of_day', 'day_of_week', 'week_of_month'])"
   ]
  },
  {
   "cell_type": "code",
   "execution_count": 262,
   "id": "74b70bfd-6c3c-45df-ae9b-830be8cca744",
   "metadata": {},
   "outputs": [
    {
     "data": {
      "text/html": [
       "<div>\n",
       "<style scoped>\n",
       "    .dataframe tbody tr th:only-of-type {\n",
       "        vertical-align: middle;\n",
       "    }\n",
       "\n",
       "    .dataframe tbody tr th {\n",
       "        vertical-align: top;\n",
       "    }\n",
       "\n",
       "    .dataframe thead th {\n",
       "        text-align: right;\n",
       "    }\n",
       "</style>\n",
       "<table border=\"1\" class=\"dataframe\">\n",
       "  <thead>\n",
       "    <tr style=\"text-align: right;\">\n",
       "      <th></th>\n",
       "      <th>step_id</th>\n",
       "      <th>amount</th>\n",
       "      <th>orig_client_id</th>\n",
       "      <th>old_balance_orig</th>\n",
       "      <th>new_balance_orig</th>\n",
       "      <th>dest_client_id</th>\n",
       "      <th>old_balance_dest</th>\n",
       "      <th>new_balance_dest</th>\n",
       "      <th>is_fraud</th>\n",
       "      <th>is_flagged_fraud</th>\n",
       "      <th>type_id</th>\n",
       "    </tr>\n",
       "  </thead>\n",
       "  <tbody>\n",
       "    <tr>\n",
       "      <th>0</th>\n",
       "      <td>1</td>\n",
       "      <td>9839.64</td>\n",
       "      <td>1</td>\n",
       "      <td>170136.0</td>\n",
       "      <td>160296.36</td>\n",
       "      <td>6353308</td>\n",
       "      <td>0.0</td>\n",
       "      <td>0.0</td>\n",
       "      <td>0</td>\n",
       "      <td>0</td>\n",
       "      <td>1</td>\n",
       "    </tr>\n",
       "    <tr>\n",
       "      <th>1</th>\n",
       "      <td>1</td>\n",
       "      <td>1864.28</td>\n",
       "      <td>2</td>\n",
       "      <td>21249.0</td>\n",
       "      <td>19384.72</td>\n",
       "      <td>6353309</td>\n",
       "      <td>0.0</td>\n",
       "      <td>0.0</td>\n",
       "      <td>0</td>\n",
       "      <td>0</td>\n",
       "      <td>1</td>\n",
       "    </tr>\n",
       "    <tr>\n",
       "      <th>2</th>\n",
       "      <td>1</td>\n",
       "      <td>181.00</td>\n",
       "      <td>3</td>\n",
       "      <td>181.0</td>\n",
       "      <td>0.00</td>\n",
       "      <td>6353310</td>\n",
       "      <td>0.0</td>\n",
       "      <td>0.0</td>\n",
       "      <td>1</td>\n",
       "      <td>0</td>\n",
       "      <td>2</td>\n",
       "    </tr>\n",
       "    <tr>\n",
       "      <th>3</th>\n",
       "      <td>1</td>\n",
       "      <td>181.00</td>\n",
       "      <td>4</td>\n",
       "      <td>181.0</td>\n",
       "      <td>0.00</td>\n",
       "      <td>6353311</td>\n",
       "      <td>21182.0</td>\n",
       "      <td>0.0</td>\n",
       "      <td>1</td>\n",
       "      <td>0</td>\n",
       "      <td>3</td>\n",
       "    </tr>\n",
       "    <tr>\n",
       "      <th>4</th>\n",
       "      <td>1</td>\n",
       "      <td>11668.14</td>\n",
       "      <td>5</td>\n",
       "      <td>41554.0</td>\n",
       "      <td>29885.86</td>\n",
       "      <td>6353312</td>\n",
       "      <td>0.0</td>\n",
       "      <td>0.0</td>\n",
       "      <td>0</td>\n",
       "      <td>0</td>\n",
       "      <td>1</td>\n",
       "    </tr>\n",
       "  </tbody>\n",
       "</table>\n",
       "</div>"
      ],
      "text/plain": [
       "   step_id    amount orig_client_id  old_balance_orig  new_balance_orig  \\\n",
       "0        1   9839.64              1          170136.0         160296.36   \n",
       "1        1   1864.28              2           21249.0          19384.72   \n",
       "2        1    181.00              3             181.0              0.00   \n",
       "3        1    181.00              4             181.0              0.00   \n",
       "4        1  11668.14              5           41554.0          29885.86   \n",
       "\n",
       "   dest_client_id  old_balance_dest  new_balance_dest  is_fraud  \\\n",
       "0         6353308               0.0               0.0         0   \n",
       "1         6353309               0.0               0.0         0   \n",
       "2         6353310               0.0               0.0         1   \n",
       "3         6353311           21182.0               0.0         1   \n",
       "4         6353312               0.0               0.0         0   \n",
       "\n",
       "   is_flagged_fraud  type_id  \n",
       "0                 0        1  \n",
       "1                 0        1  \n",
       "2                 0        2  \n",
       "3                 0        3  \n",
       "4                 0        1  "
      ]
     },
     "execution_count": 262,
     "metadata": {},
     "output_type": "execute_result"
    }
   ],
   "source": [
    "df.head()"
   ]
  },
  {
   "cell_type": "code",
   "execution_count": 263,
   "id": "373ea52c-6a9d-4412-ac98-d28c5b7fa765",
   "metadata": {},
   "outputs": [
    {
     "data": {
      "text/html": [
       "<div>\n",
       "<style scoped>\n",
       "    .dataframe tbody tr th:only-of-type {\n",
       "        vertical-align: middle;\n",
       "    }\n",
       "\n",
       "    .dataframe tbody tr th {\n",
       "        vertical-align: top;\n",
       "    }\n",
       "\n",
       "    .dataframe thead th {\n",
       "        text-align: right;\n",
       "    }\n",
       "</style>\n",
       "<table border=\"1\" class=\"dataframe\">\n",
       "  <thead>\n",
       "    <tr style=\"text-align: right;\">\n",
       "      <th></th>\n",
       "      <th>step_id</th>\n",
       "      <th>type_id</th>\n",
       "      <th>amount</th>\n",
       "      <th>orig_client_id</th>\n",
       "      <th>old_balance_orig</th>\n",
       "      <th>new_balance_orig</th>\n",
       "      <th>dest_client_id</th>\n",
       "      <th>old_balance_dest</th>\n",
       "      <th>new_balance_dest</th>\n",
       "      <th>is_fraud</th>\n",
       "      <th>is_flagged_fraud</th>\n",
       "    </tr>\n",
       "  </thead>\n",
       "  <tbody>\n",
       "    <tr>\n",
       "      <th>0</th>\n",
       "      <td>1</td>\n",
       "      <td>1</td>\n",
       "      <td>9839.64</td>\n",
       "      <td>1</td>\n",
       "      <td>170136.0</td>\n",
       "      <td>160296.36</td>\n",
       "      <td>6353308</td>\n",
       "      <td>0.0</td>\n",
       "      <td>0.0</td>\n",
       "      <td>0</td>\n",
       "      <td>0</td>\n",
       "    </tr>\n",
       "    <tr>\n",
       "      <th>1</th>\n",
       "      <td>1</td>\n",
       "      <td>1</td>\n",
       "      <td>1864.28</td>\n",
       "      <td>2</td>\n",
       "      <td>21249.0</td>\n",
       "      <td>19384.72</td>\n",
       "      <td>6353309</td>\n",
       "      <td>0.0</td>\n",
       "      <td>0.0</td>\n",
       "      <td>0</td>\n",
       "      <td>0</td>\n",
       "    </tr>\n",
       "    <tr>\n",
       "      <th>2</th>\n",
       "      <td>1</td>\n",
       "      <td>2</td>\n",
       "      <td>181.00</td>\n",
       "      <td>3</td>\n",
       "      <td>181.0</td>\n",
       "      <td>0.00</td>\n",
       "      <td>6353310</td>\n",
       "      <td>0.0</td>\n",
       "      <td>0.0</td>\n",
       "      <td>1</td>\n",
       "      <td>0</td>\n",
       "    </tr>\n",
       "    <tr>\n",
       "      <th>3</th>\n",
       "      <td>1</td>\n",
       "      <td>3</td>\n",
       "      <td>181.00</td>\n",
       "      <td>4</td>\n",
       "      <td>181.0</td>\n",
       "      <td>0.00</td>\n",
       "      <td>6353311</td>\n",
       "      <td>21182.0</td>\n",
       "      <td>0.0</td>\n",
       "      <td>1</td>\n",
       "      <td>0</td>\n",
       "    </tr>\n",
       "    <tr>\n",
       "      <th>4</th>\n",
       "      <td>1</td>\n",
       "      <td>1</td>\n",
       "      <td>11668.14</td>\n",
       "      <td>5</td>\n",
       "      <td>41554.0</td>\n",
       "      <td>29885.86</td>\n",
       "      <td>6353312</td>\n",
       "      <td>0.0</td>\n",
       "      <td>0.0</td>\n",
       "      <td>0</td>\n",
       "      <td>0</td>\n",
       "    </tr>\n",
       "  </tbody>\n",
       "</table>\n",
       "</div>"
      ],
      "text/plain": [
       "   step_id  type_id    amount orig_client_id  old_balance_orig  \\\n",
       "0        1        1   9839.64              1          170136.0   \n",
       "1        1        1   1864.28              2           21249.0   \n",
       "2        1        2    181.00              3             181.0   \n",
       "3        1        3    181.00              4             181.0   \n",
       "4        1        1  11668.14              5           41554.0   \n",
       "\n",
       "   new_balance_orig  dest_client_id  old_balance_dest  new_balance_dest  \\\n",
       "0         160296.36         6353308               0.0               0.0   \n",
       "1          19384.72         6353309               0.0               0.0   \n",
       "2              0.00         6353310               0.0               0.0   \n",
       "3              0.00         6353311           21182.0               0.0   \n",
       "4          29885.86         6353312               0.0               0.0   \n",
       "\n",
       "   is_fraud  is_flagged_fraud  \n",
       "0         0                 0  \n",
       "1         0                 0  \n",
       "2         1                 0  \n",
       "3         1                 0  \n",
       "4         0                 0  "
      ]
     },
     "execution_count": 263,
     "metadata": {},
     "output_type": "execute_result"
    }
   ],
   "source": [
    "new_order = [\n",
    "    'step_id', 'type_id', 'amount', 'orig_client_id', 'old_balance_orig',\n",
    "    'new_balance_orig', 'dest_client_id', 'old_balance_dest', 'new_balance_dest', 'is_fraud', 'is_flagged_fraud']\n",
    "df = df[new_order]\n",
    "df.head()"
   ]
  },
  {
   "cell_type": "markdown",
   "id": "7da09609-b68d-497b-a4b0-777d2270f201",
   "metadata": {},
   "source": [
    "### Привела колонки к нужным типам"
   ]
  },
  {
   "cell_type": "code",
   "execution_count": 264,
   "id": "2f97652e-b673-474d-85b9-43728a3ce50f",
   "metadata": {},
   "outputs": [
    {
     "data": {
      "text/plain": [
       "step_id               int64\n",
       "type_id               int64\n",
       "amount              float64\n",
       "orig_client_id       object\n",
       "old_balance_orig    float64\n",
       "new_balance_orig    float64\n",
       "dest_client_id        int64\n",
       "old_balance_dest    float64\n",
       "new_balance_dest    float64\n",
       "is_fraud              int64\n",
       "is_flagged_fraud      int64\n",
       "dtype: object"
      ]
     },
     "execution_count": 264,
     "metadata": {},
     "output_type": "execute_result"
    }
   ],
   "source": [
    "df.dtypes"
   ]
  },
  {
   "cell_type": "code",
   "execution_count": 268,
   "id": "12ac5ce8-8213-461c-b94f-a33dba1db572",
   "metadata": {},
   "outputs": [],
   "source": [
    "clients['client_name'] = clients['client_name'].astype('string')"
   ]
  },
  {
   "cell_type": "code",
   "execution_count": 269,
   "id": "f07f7691-5dfb-4106-b5d7-55abf2f71da3",
   "metadata": {},
   "outputs": [],
   "source": [
    "transaction_types['type_name'] = transaction_types['type_name'].astype('string')"
   ]
  },
  {
   "cell_type": "code",
   "execution_count": 270,
   "id": "21dcc93f-c402-4bcb-9cfb-e48de2b4d23f",
   "metadata": {},
   "outputs": [],
   "source": [
    "df['orig_client_id'] = df['orig_client_id'].astype('int')\n",
    "df['is_fraud'] = df['is_fraud'].astype('bool')\n",
    "df['is_flagged_fraud'] = df['is_flagged_fraud'].astype('bool')"
   ]
  },
  {
   "cell_type": "code",
   "execution_count": 271,
   "id": "0f87e5b7-1a80-4fb1-a2b4-15c1a6e5e726",
   "metadata": {},
   "outputs": [
    {
     "data": {
      "text/plain": [
       "step_id               int64\n",
       "type_id               int64\n",
       "amount              float64\n",
       "orig_client_id        int64\n",
       "old_balance_orig    float64\n",
       "new_balance_orig    float64\n",
       "dest_client_id        int64\n",
       "old_balance_dest    float64\n",
       "new_balance_dest    float64\n",
       "is_fraud               bool\n",
       "is_flagged_fraud       bool\n",
       "dtype: object"
      ]
     },
     "execution_count": 271,
     "metadata": {},
     "output_type": "execute_result"
    }
   ],
   "source": [
    "df.dtypes"
   ]
  },
  {
   "cell_type": "code",
   "execution_count": 272,
   "id": "33910763-6e09-4f6c-b10a-dddde4c1dc53",
   "metadata": {},
   "outputs": [
    {
     "data": {
      "text/html": [
       "<div>\n",
       "<style scoped>\n",
       "    .dataframe tbody tr th:only-of-type {\n",
       "        vertical-align: middle;\n",
       "    }\n",
       "\n",
       "    .dataframe tbody tr th {\n",
       "        vertical-align: top;\n",
       "    }\n",
       "\n",
       "    .dataframe thead th {\n",
       "        text-align: right;\n",
       "    }\n",
       "</style>\n",
       "<table border=\"1\" class=\"dataframe\">\n",
       "  <thead>\n",
       "    <tr style=\"text-align: right;\">\n",
       "      <th></th>\n",
       "      <th>step_id</th>\n",
       "      <th>type_id</th>\n",
       "      <th>amount</th>\n",
       "      <th>orig_client_id</th>\n",
       "      <th>old_balance_orig</th>\n",
       "      <th>new_balance_orig</th>\n",
       "      <th>dest_client_id</th>\n",
       "      <th>old_balance_dest</th>\n",
       "      <th>new_balance_dest</th>\n",
       "      <th>is_fraud</th>\n",
       "      <th>is_flagged_fraud</th>\n",
       "    </tr>\n",
       "  </thead>\n",
       "  <tbody>\n",
       "    <tr>\n",
       "      <th>0</th>\n",
       "      <td>1</td>\n",
       "      <td>1</td>\n",
       "      <td>9839.64</td>\n",
       "      <td>1</td>\n",
       "      <td>170136.0</td>\n",
       "      <td>160296.36</td>\n",
       "      <td>6353308</td>\n",
       "      <td>0.0</td>\n",
       "      <td>0.0</td>\n",
       "      <td>False</td>\n",
       "      <td>False</td>\n",
       "    </tr>\n",
       "    <tr>\n",
       "      <th>1</th>\n",
       "      <td>1</td>\n",
       "      <td>1</td>\n",
       "      <td>1864.28</td>\n",
       "      <td>2</td>\n",
       "      <td>21249.0</td>\n",
       "      <td>19384.72</td>\n",
       "      <td>6353309</td>\n",
       "      <td>0.0</td>\n",
       "      <td>0.0</td>\n",
       "      <td>False</td>\n",
       "      <td>False</td>\n",
       "    </tr>\n",
       "    <tr>\n",
       "      <th>2</th>\n",
       "      <td>1</td>\n",
       "      <td>2</td>\n",
       "      <td>181.00</td>\n",
       "      <td>3</td>\n",
       "      <td>181.0</td>\n",
       "      <td>0.00</td>\n",
       "      <td>6353310</td>\n",
       "      <td>0.0</td>\n",
       "      <td>0.0</td>\n",
       "      <td>True</td>\n",
       "      <td>False</td>\n",
       "    </tr>\n",
       "    <tr>\n",
       "      <th>3</th>\n",
       "      <td>1</td>\n",
       "      <td>3</td>\n",
       "      <td>181.00</td>\n",
       "      <td>4</td>\n",
       "      <td>181.0</td>\n",
       "      <td>0.00</td>\n",
       "      <td>6353311</td>\n",
       "      <td>21182.0</td>\n",
       "      <td>0.0</td>\n",
       "      <td>True</td>\n",
       "      <td>False</td>\n",
       "    </tr>\n",
       "    <tr>\n",
       "      <th>4</th>\n",
       "      <td>1</td>\n",
       "      <td>1</td>\n",
       "      <td>11668.14</td>\n",
       "      <td>5</td>\n",
       "      <td>41554.0</td>\n",
       "      <td>29885.86</td>\n",
       "      <td>6353312</td>\n",
       "      <td>0.0</td>\n",
       "      <td>0.0</td>\n",
       "      <td>False</td>\n",
       "      <td>False</td>\n",
       "    </tr>\n",
       "  </tbody>\n",
       "</table>\n",
       "</div>"
      ],
      "text/plain": [
       "   step_id  type_id    amount  orig_client_id  old_balance_orig  \\\n",
       "0        1        1   9839.64               1          170136.0   \n",
       "1        1        1   1864.28               2           21249.0   \n",
       "2        1        2    181.00               3             181.0   \n",
       "3        1        3    181.00               4             181.0   \n",
       "4        1        1  11668.14               5           41554.0   \n",
       "\n",
       "   new_balance_orig  dest_client_id  old_balance_dest  new_balance_dest  \\\n",
       "0         160296.36         6353308               0.0               0.0   \n",
       "1          19384.72         6353309               0.0               0.0   \n",
       "2              0.00         6353310               0.0               0.0   \n",
       "3              0.00         6353311           21182.0               0.0   \n",
       "4          29885.86         6353312               0.0               0.0   \n",
       "\n",
       "   is_fraud  is_flagged_fraud  \n",
       "0     False             False  \n",
       "1     False             False  \n",
       "2      True             False  \n",
       "3      True             False  \n",
       "4     False             False  "
      ]
     },
     "execution_count": 272,
     "metadata": {},
     "output_type": "execute_result"
    }
   ],
   "source": [
    "df.head()"
   ]
  },
  {
   "cell_type": "code",
   "execution_count": 273,
   "id": "73fd44b5-a5a4-4903-8268-86d315574c77",
   "metadata": {},
   "outputs": [],
   "source": [
    "df['transaction_id'] = df.reset_index(drop=True).index"
   ]
  },
  {
   "cell_type": "code",
   "execution_count": 274,
   "id": "3e435e59-108f-4f6b-adb0-7ced66a7b63c",
   "metadata": {},
   "outputs": [
    {
     "data": {
      "text/html": [
       "<div>\n",
       "<style scoped>\n",
       "    .dataframe tbody tr th:only-of-type {\n",
       "        vertical-align: middle;\n",
       "    }\n",
       "\n",
       "    .dataframe tbody tr th {\n",
       "        vertical-align: top;\n",
       "    }\n",
       "\n",
       "    .dataframe thead th {\n",
       "        text-align: right;\n",
       "    }\n",
       "</style>\n",
       "<table border=\"1\" class=\"dataframe\">\n",
       "  <thead>\n",
       "    <tr style=\"text-align: right;\">\n",
       "      <th></th>\n",
       "      <th>step_id</th>\n",
       "      <th>type_id</th>\n",
       "      <th>amount</th>\n",
       "      <th>orig_client_id</th>\n",
       "      <th>old_balance_orig</th>\n",
       "      <th>new_balance_orig</th>\n",
       "      <th>dest_client_id</th>\n",
       "      <th>old_balance_dest</th>\n",
       "      <th>new_balance_dest</th>\n",
       "      <th>is_fraud</th>\n",
       "      <th>is_flagged_fraud</th>\n",
       "      <th>transaction_id</th>\n",
       "    </tr>\n",
       "  </thead>\n",
       "  <tbody>\n",
       "    <tr>\n",
       "      <th>0</th>\n",
       "      <td>1</td>\n",
       "      <td>1</td>\n",
       "      <td>9839.64</td>\n",
       "      <td>1</td>\n",
       "      <td>170136.0</td>\n",
       "      <td>160296.36</td>\n",
       "      <td>6353308</td>\n",
       "      <td>0.0</td>\n",
       "      <td>0.0</td>\n",
       "      <td>False</td>\n",
       "      <td>False</td>\n",
       "      <td>0</td>\n",
       "    </tr>\n",
       "    <tr>\n",
       "      <th>1</th>\n",
       "      <td>1</td>\n",
       "      <td>1</td>\n",
       "      <td>1864.28</td>\n",
       "      <td>2</td>\n",
       "      <td>21249.0</td>\n",
       "      <td>19384.72</td>\n",
       "      <td>6353309</td>\n",
       "      <td>0.0</td>\n",
       "      <td>0.0</td>\n",
       "      <td>False</td>\n",
       "      <td>False</td>\n",
       "      <td>1</td>\n",
       "    </tr>\n",
       "    <tr>\n",
       "      <th>2</th>\n",
       "      <td>1</td>\n",
       "      <td>2</td>\n",
       "      <td>181.00</td>\n",
       "      <td>3</td>\n",
       "      <td>181.0</td>\n",
       "      <td>0.00</td>\n",
       "      <td>6353310</td>\n",
       "      <td>0.0</td>\n",
       "      <td>0.0</td>\n",
       "      <td>True</td>\n",
       "      <td>False</td>\n",
       "      <td>2</td>\n",
       "    </tr>\n",
       "    <tr>\n",
       "      <th>3</th>\n",
       "      <td>1</td>\n",
       "      <td>3</td>\n",
       "      <td>181.00</td>\n",
       "      <td>4</td>\n",
       "      <td>181.0</td>\n",
       "      <td>0.00</td>\n",
       "      <td>6353311</td>\n",
       "      <td>21182.0</td>\n",
       "      <td>0.0</td>\n",
       "      <td>True</td>\n",
       "      <td>False</td>\n",
       "      <td>3</td>\n",
       "    </tr>\n",
       "    <tr>\n",
       "      <th>4</th>\n",
       "      <td>1</td>\n",
       "      <td>1</td>\n",
       "      <td>11668.14</td>\n",
       "      <td>5</td>\n",
       "      <td>41554.0</td>\n",
       "      <td>29885.86</td>\n",
       "      <td>6353312</td>\n",
       "      <td>0.0</td>\n",
       "      <td>0.0</td>\n",
       "      <td>False</td>\n",
       "      <td>False</td>\n",
       "      <td>4</td>\n",
       "    </tr>\n",
       "  </tbody>\n",
       "</table>\n",
       "</div>"
      ],
      "text/plain": [
       "   step_id  type_id    amount  orig_client_id  old_balance_orig  \\\n",
       "0        1        1   9839.64               1          170136.0   \n",
       "1        1        1   1864.28               2           21249.0   \n",
       "2        1        2    181.00               3             181.0   \n",
       "3        1        3    181.00               4             181.0   \n",
       "4        1        1  11668.14               5           41554.0   \n",
       "\n",
       "   new_balance_orig  dest_client_id  old_balance_dest  new_balance_dest  \\\n",
       "0         160296.36         6353308               0.0               0.0   \n",
       "1          19384.72         6353309               0.0               0.0   \n",
       "2              0.00         6353310               0.0               0.0   \n",
       "3              0.00         6353311           21182.0               0.0   \n",
       "4          29885.86         6353312               0.0               0.0   \n",
       "\n",
       "   is_fraud  is_flagged_fraud  transaction_id  \n",
       "0     False             False               0  \n",
       "1     False             False               1  \n",
       "2      True             False               2  \n",
       "3      True             False               3  \n",
       "4     False             False               4  "
      ]
     },
     "execution_count": 274,
     "metadata": {},
     "output_type": "execute_result"
    }
   ],
   "source": [
    "df.head()"
   ]
  },
  {
   "cell_type": "code",
   "execution_count": 277,
   "id": "7a03c697-6d7a-4dcd-a753-2ee5e7f542c0",
   "metadata": {},
   "outputs": [],
   "source": [
    "df = df[['transaction_id', 'step_id', 'type_id', 'amount', 'orig_client_id', 'old_balance_orig',\n",
    "    'new_balance_orig', 'dest_client_id', 'old_balance_dest', 'new_balance_dest', 'is_fraud', 'is_flagged_fraud']]"
   ]
  },
  {
   "cell_type": "code",
   "execution_count": 278,
   "id": "45e9b425-cf00-428c-abde-ab993c9adcca",
   "metadata": {},
   "outputs": [
    {
     "data": {
      "text/html": [
       "<div>\n",
       "<style scoped>\n",
       "    .dataframe tbody tr th:only-of-type {\n",
       "        vertical-align: middle;\n",
       "    }\n",
       "\n",
       "    .dataframe tbody tr th {\n",
       "        vertical-align: top;\n",
       "    }\n",
       "\n",
       "    .dataframe thead th {\n",
       "        text-align: right;\n",
       "    }\n",
       "</style>\n",
       "<table border=\"1\" class=\"dataframe\">\n",
       "  <thead>\n",
       "    <tr style=\"text-align: right;\">\n",
       "      <th></th>\n",
       "      <th>transaction_id</th>\n",
       "      <th>step_id</th>\n",
       "      <th>type_id</th>\n",
       "      <th>amount</th>\n",
       "      <th>orig_client_id</th>\n",
       "      <th>old_balance_orig</th>\n",
       "      <th>new_balance_orig</th>\n",
       "      <th>dest_client_id</th>\n",
       "      <th>old_balance_dest</th>\n",
       "      <th>new_balance_dest</th>\n",
       "      <th>is_fraud</th>\n",
       "      <th>is_flagged_fraud</th>\n",
       "    </tr>\n",
       "  </thead>\n",
       "  <tbody>\n",
       "    <tr>\n",
       "      <th>0</th>\n",
       "      <td>0</td>\n",
       "      <td>1</td>\n",
       "      <td>1</td>\n",
       "      <td>9839.64</td>\n",
       "      <td>1</td>\n",
       "      <td>170136.0</td>\n",
       "      <td>160296.36</td>\n",
       "      <td>6353308</td>\n",
       "      <td>0.0</td>\n",
       "      <td>0.0</td>\n",
       "      <td>False</td>\n",
       "      <td>False</td>\n",
       "    </tr>\n",
       "    <tr>\n",
       "      <th>1</th>\n",
       "      <td>1</td>\n",
       "      <td>1</td>\n",
       "      <td>1</td>\n",
       "      <td>1864.28</td>\n",
       "      <td>2</td>\n",
       "      <td>21249.0</td>\n",
       "      <td>19384.72</td>\n",
       "      <td>6353309</td>\n",
       "      <td>0.0</td>\n",
       "      <td>0.0</td>\n",
       "      <td>False</td>\n",
       "      <td>False</td>\n",
       "    </tr>\n",
       "    <tr>\n",
       "      <th>2</th>\n",
       "      <td>2</td>\n",
       "      <td>1</td>\n",
       "      <td>2</td>\n",
       "      <td>181.00</td>\n",
       "      <td>3</td>\n",
       "      <td>181.0</td>\n",
       "      <td>0.00</td>\n",
       "      <td>6353310</td>\n",
       "      <td>0.0</td>\n",
       "      <td>0.0</td>\n",
       "      <td>True</td>\n",
       "      <td>False</td>\n",
       "    </tr>\n",
       "    <tr>\n",
       "      <th>3</th>\n",
       "      <td>3</td>\n",
       "      <td>1</td>\n",
       "      <td>3</td>\n",
       "      <td>181.00</td>\n",
       "      <td>4</td>\n",
       "      <td>181.0</td>\n",
       "      <td>0.00</td>\n",
       "      <td>6353311</td>\n",
       "      <td>21182.0</td>\n",
       "      <td>0.0</td>\n",
       "      <td>True</td>\n",
       "      <td>False</td>\n",
       "    </tr>\n",
       "    <tr>\n",
       "      <th>4</th>\n",
       "      <td>4</td>\n",
       "      <td>1</td>\n",
       "      <td>1</td>\n",
       "      <td>11668.14</td>\n",
       "      <td>5</td>\n",
       "      <td>41554.0</td>\n",
       "      <td>29885.86</td>\n",
       "      <td>6353312</td>\n",
       "      <td>0.0</td>\n",
       "      <td>0.0</td>\n",
       "      <td>False</td>\n",
       "      <td>False</td>\n",
       "    </tr>\n",
       "  </tbody>\n",
       "</table>\n",
       "</div>"
      ],
      "text/plain": [
       "   transaction_id  step_id  type_id    amount  orig_client_id  \\\n",
       "0               0        1        1   9839.64               1   \n",
       "1               1        1        1   1864.28               2   \n",
       "2               2        1        2    181.00               3   \n",
       "3               3        1        3    181.00               4   \n",
       "4               4        1        1  11668.14               5   \n",
       "\n",
       "   old_balance_orig  new_balance_orig  dest_client_id  old_balance_dest  \\\n",
       "0          170136.0         160296.36         6353308               0.0   \n",
       "1           21249.0          19384.72         6353309               0.0   \n",
       "2             181.0              0.00         6353310               0.0   \n",
       "3             181.0              0.00         6353311           21182.0   \n",
       "4           41554.0          29885.86         6353312               0.0   \n",
       "\n",
       "   new_balance_dest  is_fraud  is_flagged_fraud  \n",
       "0               0.0     False             False  \n",
       "1               0.0     False             False  \n",
       "2               0.0      True             False  \n",
       "3               0.0      True             False  \n",
       "4               0.0     False             False  "
      ]
     },
     "execution_count": 278,
     "metadata": {},
     "output_type": "execute_result"
    }
   ],
   "source": [
    "df.head()"
   ]
  },
  {
   "cell_type": "markdown",
   "id": "33fe3bc2-4513-4bd9-835b-f81b1efc5117",
   "metadata": {},
   "source": [
    "## Сохранила таблицу фактов и таблицы измерений "
   ]
  },
  {
   "cell_type": "code",
   "execution_count": 279,
   "id": "39646015-642f-41b1-b2f4-ab61dc9e48e9",
   "metadata": {},
   "outputs": [],
   "source": [
    "fact_transactions = df"
   ]
  },
  {
   "cell_type": "code",
   "execution_count": 280,
   "id": "d1cc66b9-42a0-450e-bc63-4670f3b18509",
   "metadata": {},
   "outputs": [],
   "source": [
    "fact_transactions.to_csv('fact_transactions.csv', index=False)"
   ]
  },
  {
   "cell_type": "code",
   "execution_count": 281,
   "id": "66745dd5-65f6-419c-a6de-ceec88ccf26a",
   "metadata": {},
   "outputs": [],
   "source": [
    "clients.to_csv('clients.csv', index=False)"
   ]
  },
  {
   "cell_type": "code",
   "execution_count": 282,
   "id": "de03801a-368a-4c4c-b437-5c2ccf3215ac",
   "metadata": {},
   "outputs": [],
   "source": [
    "transaction_types.to_csv(\"transaction_types.csv\", index=False)"
   ]
  },
  {
   "cell_type": "code",
   "execution_count": 283,
   "id": "21cc50f7-dc6c-4142-bd5b-f45e9a577545",
   "metadata": {},
   "outputs": [],
   "source": [
    "dates.to_csv(\"dates.csv\", index=False)"
   ]
  },
  {
   "cell_type": "code",
   "execution_count": null,
   "id": "a3451134-f5ad-4d59-9a0a-a2a2010b4328",
   "metadata": {},
   "outputs": [],
   "source": []
  },
  {
   "cell_type": "code",
   "execution_count": null,
   "id": "752d9cb6-5c80-4e8b-b409-4fa3bf217ee9",
   "metadata": {},
   "outputs": [],
   "source": []
  }
 ],
 "metadata": {
  "kernelspec": {
   "display_name": "Python [conda env:base] *",
   "language": "python",
   "name": "conda-base-py"
  },
  "language_info": {
   "codemirror_mode": {
    "name": "ipython",
    "version": 3
   },
   "file_extension": ".py",
   "mimetype": "text/x-python",
   "name": "python",
   "nbconvert_exporter": "python",
   "pygments_lexer": "ipython3",
   "version": "3.13.5"
  }
 },
 "nbformat": 4,
 "nbformat_minor": 5
}
